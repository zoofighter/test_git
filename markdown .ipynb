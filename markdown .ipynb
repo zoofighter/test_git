{
 "cells": [
  {
   "cell_type": "markdown",
   "metadata": {},
   "source": [
    "# MarkDown"
   ]
  },
  {
   "cell_type": "markdown",
   "metadata": {},
   "source": [
    "## markdown 이란\n",
    "\n",
    "> Markdown is a text-to-HTML conversion tool for web writers. Markdown allows you to write using an easy-to-read, easy-to-write plain text format, then convert it to structurally valid XHTML (or HTML)\n",
    "\n",
    "** 즉, 마크다운은 다음과 같은 성질을 가지는 텍스트를 HTML로 변환하는 언어이자 도구이다 **\n",
    "1. 사람이 읽고 쓰기 쉽다.\n",
    "2. 컴퓨터도 이해하기 쉽다.\n",
    "\n",
    "마크다운은 간단한 문법만을 사용해 글을 구조적으로 작성할 수 있고, 마크다운으로 작성된 글을 그냥 읽어도 이해하기 쉽고 HTML로 변환해도 보기에 좋다. 이 때문에 최근 GitHub 같은 개발 관련 웹사이트에서 마크다운을 많이 사용하고 있다\n",
    "\n",
    "## 마크업 언어\n",
    "\n",
    "HTML은 Tag 를 이용하여 자료의 구조를 만드는 대표적인 마크업 언어입니다.  \n",
    "마크업 언어는 문서에 포함된 내용에 대한  ~~정보가 아니라~~, 글자의 크기나 형태, 그래픽, 여백 등\n",
    "문서가 화면에 표시되는 형식을 정의하는데 필요한 언어입니다.  \n",
    "HTML / CSS / Javascript / jQuery는 클라이언트 측 언어로,클라이언트 측에서 실행되고,  실행 결과를 웹 브라우저를 통해 화면에 보여 줍니다\n",
    "CSS는 HTML로 뼈대를 잡은 웹 페이지를 꾸며주는 역할을 합니다.\n",
    "\n",
    "*참조사이트 *  \n",
    "[마크다운 사용법1](http://danielku.com/posts/2014-02-13-markdown/)  \n",
    "[마크다운 사용법2](https://heropy.blog/2017/09/30/markdown/)  \n",
    "[마크다운 사용법3](http://blog.hyeyoonjung.com/2017/05/30/how-to-use-markdown/)  \n",
    "[마크업](https://blog.naver.com/green_0807/221343206511) \n",
    "\n",
    "## markdown 간단사용법(명령어 10개)`\n",
    "\n",
    "1. code block '''python '''   문장 내에서도 `코드` 삽입이 가능하다.\n",
    "2. table\n",
    "3. subject #, ## \n",
    "4. list_item  (*,-, number). \n",
    "5. [https](https://google.com)\n",
    "***\n",
    "\n",
    "6. black qouete ^  인용문\n",
    "7. -italic-  \n",
    "8. **bold** \n",
    "9. ~~cancel\n",
    "10. /hr   * * * \n",
    "****\n",
    "\n",
    "## number 2 table\n",
    "\n",
    "값 | 의미 | 기본값\n",
    "---|:---:|---:\n",
    "`static` | 유형(기준) 없음 / 배치 불가능 | `static`\n",
    "`relative` | 요소 **자신**을 기준으로 배치 |\n",
    "`absolute` | 위치 상 **_부모_(조상)요소**를 기준으로 배치 |\n",
    "`fixed` | **브라우저 창**을 기준으로 배치 |"
   ]
  }
 ],
 "metadata": {
  "kernelspec": {
   "display_name": "Python 3",
   "language": "python",
   "name": "python3"
  },
  "language_info": {
   "codemirror_mode": {
    "name": "ipython",
    "version": 3
   },
   "file_extension": ".py",
   "mimetype": "text/x-python",
   "name": "python",
   "nbconvert_exporter": "python",
   "pygments_lexer": "ipython3",
   "version": "3.6.4"
  }
 },
 "nbformat": 4,
 "nbformat_minor": 2
}
